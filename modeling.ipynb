{
 "cells": [
  {
   "cell_type": "code",
   "execution_count": 1,
   "id": "cb1068d4-2fa6-4f1f-8189-a1daccc06789",
   "metadata": {
    "tags": []
   },
   "outputs": [],
   "source": [
    "from ipynb.fs.full.my_functions import process_data, train_models, CV, predict, metric, param_selection, best_params, errors, remove_outliers\n",
    "import pickle\n",
    "import pandas as pd\n",
    "import numpy as np\n",
    "import seaborn as sns\n",
    "import matplotlib.pyplot as plt\n",
    "import matplotlib.dates as mdates\n",
    "from sklearn.model_selection import TimeSeriesSplit, GridSearchCV\n",
    "import shap"
   ]
  },
  {
   "cell_type": "code",
   "execution_count": 2,
   "id": "0ea15bc3-3fe0-4820-9ede-056b301355c2",
   "metadata": {},
   "outputs": [],
   "source": [
    "cm = 1/2.54\n",
    "plt.rcParams[\"figure.figsize\"] = (10*cm,10*cm)\n",
    "plt.rcParams['lines.linewidth'] = 5*cm\n",
    "plt.rcParams['lines.markersize'] = 3.5*cm\n",
    "plt.rcParams['figure.dpi'] = 100\n",
    "plt.rcParams['xtick.major.size'] = 3.5*cm\n",
    "plt.rcParams['ytick.major.size'] = 3.5*cm\n",
    "plt.rcParams['xtick.minor.size'] = 2.5*cm\n",
    "plt.rcParams['ytick.minor.size'] = 2.5*cm\n",
    "plt.rcParams['font.size'] = 18*cm\n",
    "plt.rcParams['axes.titlesize'] = 24*cm\n",
    "plt.rcParams['axes.labelsize'] = 24*cm\n",
    "plt.rcParams['xtick.labelsize'] = 18*cm\n",
    "plt.rcParams['ytick.labelsize'] = 18*cm\n",
    "plt.rcParams['legend.fontsize'] = 18*cm\n",
    "plt.rcParams['figure.titlesize'] = 24*cm\n",
    "# t.t.rc('font', size=24*cm)          # controls default text sizes\n",
    "# plt.rc('axes', titlesize=24*cm)     # fontsize of the axes title\n",
    "# plt.rc('axes', labelsize=24*cm)    # fontsize of the x and y labels\n",
    "# plt.rc('xtick', labelsize=18*cm)    # fontsize of the tick labels\n",
    "# plt.rc('ytick', labelsize=18*cm)    # fontsize of the tick labels\n",
    "# plt.rc('legend', fontsize=18*cm)    # legend fontsize\n",
    "# plt.rc('figure', titlesize=24*cm)  # fontsize of the figure title"
   ]
  },
  {
   "cell_type": "code",
   "execution_count": 4,
   "id": "8b9565e0-71b8-4dde-923d-e32b84e4a47f",
   "metadata": {},
   "outputs": [],
   "source": [
    "# Split data\n",
    "features = ['Gen_RPM', 'Gen_Phase_Temp', 'Nac_Temp', 'Wind_Speed', 'Humidity']\n",
    "target = 'Gen_Bear_Temp'\n",
    "\n",
    "df = pd.read_pickle(\"modeling.pkl\")\n",
    "\n",
    "train = df.loc[:'2016'].copy()\n",
    "test = df.loc['2017':].copy()\n",
    "\n",
    "X_train = train[features]\n",
    "y_train = train[target]\n",
    "\n",
    "X_test = test[features]\n",
    "y_test = test[target]"
   ]
  },
  {
   "cell_type": "code",
   "execution_count": 3,
   "id": "5a5564e1-0f6a-4e0d-81fe-c2fd9a1438ce",
   "metadata": {},
   "outputs": [],
   "source": [
    "# Save df as pickle\n",
    "df = process_data()\n",
    "df.to_pickle(\"modeling.pkl\")"
   ]
  },
  {
   "cell_type": "code",
   "execution_count": 7,
   "id": "a3f276e4-6f27-4d67-b35d-8411ee91dbe1",
   "metadata": {},
   "outputs": [],
   "source": [
    "df = pd.read_pickle(\"modeling_all_models.pkl\")\n",
    "# df.to_pickle(\"modeling_all_models.pkl\")"
   ]
  },
  {
   "cell_type": "code",
   "execution_count": null,
   "id": "1ee53d0f-cc90-4e65-a09d-b5a26cd5c01e",
   "metadata": {},
   "outputs": [],
   "source": [
    "# Use to find errors in my_functions notebook\n",
    "%run my_functions.ipynb"
   ]
  },
  {
   "cell_type": "markdown",
   "id": "32194fd2-ae8f-4d39-ad46-db0c87e58a75",
   "metadata": {},
   "source": [
    "# Plotting data splits"
   ]
  },
  {
   "cell_type": "code",
   "execution_count": null,
   "id": "1c0ea3e0-8c9d-458e-b9a5-9c7b5f332b89",
   "metadata": {},
   "outputs": [],
   "source": [
    "fig, axes = plt.subplots(1, len(df[[target] + features].columns), figsize=(20*cm, 10*cm))\n",
    "\n",
    "red_circle = dict(markerfacecolor='red', marker='o', markeredgecolor='white', ms=3.5)\n",
    "for i, ax in enumerate(axes.flat):\n",
    "    ax.boxplot(df[[target] + features].iloc[:,i], flierprops=red_circle)\n",
    "    ax.set_title(df[[target] + features].columns[i])\n",
    "    ax.tick_params(axis='y')\n",
    "    ax.axes.get_xaxis().set_visible(False)\n",
    "\n",
    "plt.tight_layout()\n",
    "plt.savefig(r'figs\\box_plot.png', bbox_inches='tight')\n",
    "plt.show()"
   ]
  },
  {
   "cell_type": "code",
   "execution_count": null,
   "id": "4f8b4332-34e7-4fa0-87b7-338c03156f91",
   "metadata": {
    "tags": []
   },
   "outputs": [],
   "source": [
    "# Plot train/test split\n",
    "fig, ax = plt.subplots(figsize=(15,7))\n",
    "train.Gen_Bear_Temp.plot(ax=ax, label='Training Set')\n",
    "test.Gen_Bear_Temp.plot(ax=ax, label='Test Set')\n",
    "ax.axvline('2017', color='black', ls='--')\n",
    "ax.legend(['Training Set', 'Test Set'])\n",
    "ax.set_ylabel('Temperature ($^\\circ$C)')\n",
    "ax.xaxis.set_major_locator(mdates.MonthLocator(interval=2))\n",
    "\n",
    "#plt.savefig(r'figs\\train_test_split.png', bbox_inches='tight')\n",
    "plt.show()"
   ]
  },
  {
   "cell_type": "code",
   "execution_count": null,
   "id": "edaffe57-3bf0-4697-a231-8bd32c137e5f",
   "metadata": {
    "tags": []
   },
   "outputs": [],
   "source": [
    "# Plot train/validation/test split\n",
    "train_short = df.loc[df.index < '2016-09']\n",
    "cv = df.loc[(df.index >= '2016-09') & (df.index < '2017')]\n",
    "\n",
    "fig, ax = plt.subplots(figsize=(15,7))\n",
    "train_short.Gen_Bear_Temp.plot(ax=ax, label='Training')\n",
    "cv.Gen_Bear_Temp.plot(ax=ax, label='Validation')\n",
    "test.Gen_Bear_Temp.plot(ax=ax, label='Test')\n",
    "ax.axvline('2017', color='black', ls='--')\n",
    "ax.axvline('2016-09', color='black', ls='--')\n",
    "ax.legend(['Training Set', 'Validation Set', 'Test Set'])\n",
    "ax.set_ylabel('Temperature ($^\\circ$C)')\n",
    "\n",
    "locator = mdates.AutoDateLocator()\n",
    "formatter = mdates.ConciseDateFormatter(locator)\n",
    "ax.xaxis.set_major_locator(mdates.MonthLocator())\n",
    "ax.xaxis.set_major_formatter(formatter)\n",
    "\n",
    "plt.savefig(r'figs\\train_val_test_split.png', bbox_inches='tight')\n",
    "plt.show()"
   ]
  },
  {
   "cell_type": "code",
   "execution_count": null,
   "id": "86af9225-c1db-40f5-9a95-dcba07b19537",
   "metadata": {
    "tags": []
   },
   "outputs": [],
   "source": [
    "# Plot cross validation folds\n",
    "tss = TimeSeriesSplit(n_splits=4, test_size=6*24*30, gap=6*24)\n",
    "\n",
    "fig, axs = plt.subplots(4, 1, figsize=(15, 10), sharex=True)\n",
    "\n",
    "cv_df = df.loc[df.index < '2017'].copy()\n",
    "\n",
    "fold = 0\n",
    "for train_idx, val_idx in tss.split(cv_df):\n",
    "    train = cv_df.iloc[train_idx]\n",
    "    test = cv_df.iloc[val_idx]\n",
    "    train['Gen_Bear_Temp'].plot(ax=axs[fold],\n",
    "                          label='Training Set',\n",
    "                          title=f'Data Train/Test Split Fold {fold}')\n",
    "    test['Gen_Bear_Temp'].plot(ax=axs[fold],\n",
    "                         label='Test Set')\n",
    "    axs[fold].axvline(test.index.min(), color='black', ls='--')\n",
    "    axs[fold].xaxis.set_major_locator(mdates.MonthLocator())\n",
    "\n",
    "    fold += 1\n",
    "\n",
    "plt.savefig(r'figs\\folds.png', bbox_inches='tight')    \n",
    "plt.show()"
   ]
  },
  {
   "cell_type": "code",
   "execution_count": null,
   "id": "d5762e16-deeb-46b5-af8a-6970254b015c",
   "metadata": {},
   "outputs": [],
   "source": [
    "import matplotlib.dates as dates\n",
    "plt_dates = dates.date2num(df.index.to_pydatetime())"
   ]
  },
  {
   "cell_type": "code",
   "execution_count": null,
   "id": "fcd9c3d2-6232-42b2-a90a-1293d5f4d79a",
   "metadata": {},
   "outputs": [],
   "source": [
    "fig = plt.figure(figsize=(15,7))\n",
    "\n",
    "# The dimensions can then be added (left, bottom, width, height) for each figure\n",
    "fig1 = fig.add_axes([0.1,0.1,0.8,0.8])\n",
    "plt.gca().set_ylim(0,200)\n",
    "\n",
    "# Each figure can be plotted and axes and tiles can be added\n",
    "start = '2017'\n",
    "fig1.plot(df.query('Gen_Bear2_Temp < 100')[start:]['Gen_Bear_Temp'], lw=1, label='Generator bearing (drive-end)')\n",
    "fig1.plot(df.query('Gen_Bear2_Temp < 100')[start:]['Gen_Bear2_Temp'], lw=1, label='Generator bearing (driven end)')\n",
    "plt.gca().axvspan('2017-08-20 08:10:00', '2017-08-28 21:50', color=\"green\", alpha=0.3, label='Downtime')\n",
    "fig1.set_xlabel('Date')\n",
    "fig1.set_ylabel('Temperature ($^\\circ$C)')\n",
    "\n",
    "# time = '2017-08-20 08:00:00'\n",
    "# plt.gca().annotate('Generator bearings damaged',\n",
    "#             xy=(time, df.loc[time]['Gen_Bear2_Temp']),\n",
    "#             xytext=(-130, 25), textcoords='offset points',\n",
    "#             ha='center', va='bottom',\n",
    "#              bbox=dict(boxstyle='round,pad=0.2', fc='yellow', alpha=0.4),\n",
    "#             arrowprops=dict(arrowstyle='->', connectionstyle='arc3', \n",
    "#                             color='black', lw=2))\n",
    "\n",
    "time = '2017-08-21 16:50:00'\n",
    "plt.gca().annotate('Generator damaged',\n",
    "            xy=(time, df.loc[time]['Gen_Bear_Temp']),\n",
    "            xytext=(-100, -50), textcoords='offset points',\n",
    "            ha='center', va='bottom',\n",
    "             bbox=dict(boxstyle='round,pad=0.2', fc='yellow', alpha=0.4),\n",
    "            arrowprops=dict(arrowstyle='->', connectionstyle='arc3', \n",
    "                            color='black', lw=2))\n",
    "\n",
    "ax = plt.gca()\n",
    "locator = mdates.AutoDateLocator()\n",
    "formatter = mdates.ConciseDateFormatter(locator)\n",
    "ax.xaxis.set_major_locator(mdates.MonthLocator())\n",
    "ax.xaxis.set_major_formatter(formatter)\n",
    "plt.setp(ax.get_xticklabels(), rotation=0, ha=\"center\")\n",
    "plt.legend()\n",
    "\n",
    "\n",
    "fig2 = fig.add_axes([0.18,0.6,0.4,0.25])\n",
    "start = '2017-08-15'\n",
    "end = '2017-08'\n",
    "fig2.plot(df.query('Gen_Bear2_Temp < 100')[start:end]['Gen_Bear_Temp'], lw=1, label='Generator bearing (drive-end)')\n",
    "fig2.plot(df.query('Gen_Bear2_Temp < 100')[start:end]['Gen_Bear2_Temp'], lw=1, label='Generator bearing (driven end)')\n",
    "plt.gca().axvspan('2017-08-20 08:10:00', '2017-08-28 21:50', color=\"green\", alpha=0.3, label='Downtime') \n",
    "plt.gca().set_ylim(0,100)\n",
    "# fig2.set_xlabel('Date')\n",
    "# fig2.set_ylabel('Temperature ($^\\circ$C)')\n",
    "\n",
    "# time = '2017-08-20 08:00:00'\n",
    "# plt.gca().annotate('Generator bearings damaged',\n",
    "#             xy=(time, df.loc[time]['Gen_Bear2_Temp']),\n",
    "#             xytext=(-120, 25), textcoords='offset points',\n",
    "#             ha='center', va='bottom',\n",
    "#              bbox=dict(boxstyle='round,pad=0.2', fc='yellow', alpha=0.4),\n",
    "#             arrowprops=dict(arrowstyle='->', connectionstyle='arc3', \n",
    "#                             color='black', lw=2))\n",
    "\n",
    "# time = '2017-08-21 16:50:00'\n",
    "# ax.annotate('Generator damaged',\n",
    "#             xy=(time, df.loc[time]['Gen_Bear_Temp']),\n",
    "#             xytext=(-150, -50), textcoords='offset points',\n",
    "#             ha='center', va='bottom',\n",
    "#              bbox=dict(boxstyle='round,pad=0.2', fc='yellow', alpha=0.4),\n",
    "#             arrowprops=dict(arrowstyle='->', connectionstyle='arc3', \n",
    "#                             color='black', lw=2))\n",
    "\n",
    "ax = plt.gca()\n",
    "locator = mdates.AutoDateLocator()\n",
    "formatter = mdates.ConciseDateFormatter(locator)\n",
    "ax.xaxis.set_major_locator(locator)\n",
    "ax.xaxis.set_major_formatter(formatter)\n",
    "plt.setp(ax.get_xticklabels(), rotation=0, ha=\"center\")\n",
    "\n",
    "plt.show()"
   ]
  },
  {
   "cell_type": "code",
   "execution_count": null,
   "id": "21d67371-c364-4677-acda-9dfcec95388d",
   "metadata": {},
   "outputs": [],
   "source": [
    "fig, ax = plt.subplots()\n",
    "\n",
    "start = '2016-04-29'\n",
    "end = '2016-04-29'\n",
    "\n",
    "df[start:end]['Gen_Bear_Temp'].plot(style='o', ms=3.5, label='Gen bearing (drive-end)', ax=ax, x_compat=True)\n",
    "df[start:end]['Gen_Bear2_Temp'].plot(style='v', ms=3.5, label='Gen bearing (driven end)', ax=ax, x_compat=True)\n",
    "\n",
    "locator = mdates.AutoDateLocator(maxticks=7)\n",
    "# locator.intervald[HOURLY] = [3]\n",
    "# locator = HourLocator(3, month=5, day=29)\n",
    "formatter = mdates.ConciseDateFormatter(locator)\n",
    "\n",
    "# formatter = mdates.DateFormatter('%H')\n",
    "ax.xaxis.set_major_locator(locator)\n",
    "ax.xaxis.set_major_formatter(formatter)\n",
    "ax.set_ylabel('Temperature (\\u00B0C)')\n",
    "# ax.set_ylim(0,225)\n",
    "ax.set_yticks([0,50,100,150,200])\n",
    "plt.setp(ax.get_xticklabels(), rotation=0, ha=\"center\")\n",
    "ax.set_aspect(1.0/ax.get_data_ratio(), adjustable='box')\n",
    "plt.legend()\n",
    "plt.tight_layout()\n",
    "\n",
    "plt.savefig('figs\\gen_29_04_2016.png', bbox_inches='tight')\n",
    "plt.show()"
   ]
  },
  {
   "cell_type": "code",
   "execution_count": null,
   "id": "1591ab55-f9ec-4972-ad34-b4ec0b8ca261",
   "metadata": {},
   "outputs": [],
   "source": [
    "fig, ax = plt.subplots(2, figsize=(10*cm,20*cm), sharey=True)\n",
    "\n",
    "start = '2017'\n",
    "df.query('Gen_Bear2_Temp < 100')[start:]['Gen_Bear_Temp'].plot(label='Gen bearing (drive-end)', ax=ax[0], title='(A)')\n",
    "df.query('Gen_Bear2_Temp < 100')[start:]['Gen_Bear2_Temp'].plot(label='Gen bearing (driven end)', ax=ax[0])\n",
    "\n",
    "ax[0].axvspan('2017-08-20 08:10:00', '2017-08-28 21:50', color=\"green\", alpha=0.3, label='Downtime') \n",
    "\n",
    "time = '2017-08-20 08:00:00'\n",
    "ax[0].annotate('Gen bearings damaged',\n",
    "            xy=(time, df.loc[time]['Gen_Bear2_Temp']),\n",
    "            xytext=(40, 30), textcoords='offset points',\n",
    "            ha='center', va='bottom',\n",
    "             bbox=dict(boxstyle='round,pad=0.2', fc='yellow', alpha=0.6),\n",
    "            arrowprops=dict(arrowstyle='->', connectionstyle='arc3', \n",
    "                            color='black', lw=2))\n",
    "\n",
    "time = '2017-08-21 16:50:00'\n",
    "ax[0].annotate('Generator damaged',\n",
    "            xy=(time, df.loc[time]['Gen_Bear_Temp']),\n",
    "            xytext=(-50, -50), textcoords='offset points',\n",
    "            ha='center', va='bottom',\n",
    "             bbox=dict(boxstyle='round,pad=0.2', fc='yellow', alpha=0.6),\n",
    "            arrowprops=dict(arrowstyle='->', connectionstyle='arc3', \n",
    "                            color='black', lw=2))\n",
    "\n",
    "locator = mdates.AutoDateLocator()\n",
    "formatter = mdates.ConciseDateFormatter(locator)\n",
    "ax[0].xaxis.set_major_locator(mdates.MonthLocator())\n",
    "ax[0].xaxis.set_major_formatter(formatter)\n",
    "# plt.setp(ax[0].get_xticklabels(), rotation=0, ha=\"center\")\n",
    "\n",
    "ax[0].set_ylabel('Temperature (\\u00B0C)')\n",
    "ax[0].set_ylim(0,110)\n",
    "ax[0].legend(loc=2)\n",
    "plt.setp(ax[0].get_xticklabels(), rotation=0, ha=\"center\")\n",
    "\n",
    "start = '2017-08-15'\n",
    "end = '2017-08'\n",
    "df.query('Gen_Bear2_Temp < 100')[start:end]['Gen_Bear_Temp'].plot(label='Gen bearing (drive-end)', ax=ax[1], x_compat=True, title='(B)')\n",
    "df.query('Gen_Bear2_Temp < 100')[start:end]['Gen_Bear2_Temp'].plot(label='Gen bearing (driven end)', ax=ax[1], x_compat=True)\n",
    "\n",
    "ax[1].axvspan('2017-08-20 08:10:00', '2017-08-28 21:50', color=\"green\", alpha=0.3, label='Downtime') \n",
    "\n",
    "time = '2017-08-20 08:00:00'\n",
    "ax[1].annotate('Gen bearings damaged',\n",
    "            xy=(time, df.loc[time]['Gen_Bear2_Temp']),\n",
    "            xytext=(50, 20), textcoords='offset points',\n",
    "            ha='center', va='bottom',\n",
    "             bbox=dict(boxstyle='round,pad=0.2', fc='yellow', alpha=0.6),\n",
    "            arrowprops=dict(arrowstyle='->', connectionstyle='arc3', \n",
    "                            color='black', lw=1))\n",
    "\n",
    "time = '2017-08-21 16:50:00'\n",
    "ax[1].annotate('Generator damaged',\n",
    "            xy=(time, df.loc[time]['Gen_Bear_Temp']),\n",
    "            xytext=(-15, -40), textcoords='offset points',\n",
    "            ha='center', va='bottom',\n",
    "             bbox=dict(boxstyle='round,pad=0.2', fc='yellow', alpha=0.6),\n",
    "            arrowprops=dict(arrowstyle='->', connectionstyle='arc3', \n",
    "                            color='black', lw=1))\n",
    "\n",
    "locator = mdates.AutoDateLocator()\n",
    "formatter = mdates.ConciseDateFormatter(locator)\n",
    "# formatter = mdates.DateFormatter('%H')\n",
    "ax[1].xaxis.set_major_locator(mdates.DayLocator())\n",
    "ax[1].xaxis.set_major_formatter(formatter)\n",
    "ax[1].set_ylabel('Temperature (\\u00B0C)')\n",
    "plt.setp(ax[1].get_xticklabels(), rotation=0, ha=\"center\")\n",
    "\n",
    "# handles, labels = ax[0].get_legend_handles_labels()\n",
    "# fig.legend(handles, labels, fontsize=12)\n",
    "plt.tight_layout()\n",
    "\n",
    "plt.savefig('figs\\gen_failures.png', bbox_inches='tight')\n",
    "plt.show()"
   ]
  },
  {
   "cell_type": "code",
   "execution_count": null,
   "id": "68e547a1-2a67-4619-965b-ef493c384f3b",
   "metadata": {
    "tags": []
   },
   "outputs": [],
   "source": [
    "fig, ax = plt.subplots(2, figsize=(12,10), sharey=True)\n",
    "plt.rcParams.update({'font.size': 16}) # must set in top\n",
    "\n",
    "# import matplotlib\n",
    "# matplotlib.rcParams.update(matplotlib.rcParamsDefault)\n",
    "\n",
    "start = '2017'\n",
    "df.query('Gen_Bear2_Temp < 100')[start:]['Gen_Bear_Temp'].plot(label='Generator bearing (drive-end)', ax=ax[0], title='(A)', fontsize=16)\n",
    "df.query('Gen_Bear2_Temp < 100')[start:]['Gen_Bear2_Temp'].plot(label='Generator bearing (driven end)', ax=ax[0], fontsize=16)\n",
    "\n",
    "ax[0].axvspan('2017-08-20 08:10:00', '2017-08-28 21:50', color=\"green\", alpha=0.3, label='Downtime') \n",
    "\n",
    "time = '2017-08-20 08:00:00'\n",
    "ax[0].annotate('Generator bearings damaged',\n",
    "            xy=(time, df.loc[time]['Gen_Bear2_Temp']),\n",
    "            xytext=(-130, 25), textcoords='offset points',\n",
    "            ha='center', va='bottom',\n",
    "             bbox=dict(boxstyle='round,pad=0.2', fc='yellow', alpha=0.4),\n",
    "            arrowprops=dict(arrowstyle='->', connectionstyle='arc3', \n",
    "                            color='black', lw=2), fontsize=12)\n",
    "\n",
    "time = '2017-08-21 16:50:00'\n",
    "ax[0].annotate('Generator damaged',\n",
    "            xy=(time, df.loc[time]['Gen_Bear_Temp']),\n",
    "            xytext=(-100, -50), textcoords='offset points',\n",
    "            ha='center', va='bottom',\n",
    "             bbox=dict(boxstyle='round,pad=0.2', fc='yellow', alpha=0.4),\n",
    "            arrowprops=dict(arrowstyle='->', connectionstyle='arc3', \n",
    "                            color='black', lw=2), fontsize=12)\n",
    "\n",
    "locator = mdates.AutoDateLocator()\n",
    "formatter = mdates.ConciseDateFormatter(locator)\n",
    "ax[0].xaxis.set_major_locator(mdates.MonthLocator())\n",
    "ax[0].xaxis.set_major_formatter(formatter)\n",
    "plt.setp(ax[0].get_xticklabels(), rotation=0, ha=\"center\")\n",
    "\n",
    "ax[0].set_ylabel('Temperature ($^\\circ$C)', fontsize=16)\n",
    "ax[0].set_ylim(0,110)\n",
    "ax[0].legend(loc=1,fontsize=12)\n",
    "plt.setp(ax[0].get_xticklabels(), rotation=0, ha=\"center\", fontsize=12)\n",
    "plt.setp(ax[0].get_yticklabels(), fontsize=12)\n",
    "\n",
    "start = '2017-08-15'\n",
    "end = '2017-08'\n",
    "df.query('Gen_Bear2_Temp < 100')[start:end]['Gen_Bear_Temp'].plot(label='Generator bearing (drive-end)', ax=ax[1], x_compat=True, title='(B)', fontsize=16)\n",
    "df.query('Gen_Bear2_Temp < 100')[start:end]['Gen_Bear2_Temp'].plot(label='Generator bearing (driven end)', ax=ax[1], x_compat=True, fontsize=16)\n",
    "\n",
    "ax[1].axvspan('2017-08-20 08:10:00', '2017-08-28 21:50', color=\"green\", alpha=0.3, label='Downtime') \n",
    "\n",
    "time = '2017-08-20 08:00:00'\n",
    "ax[1].annotate('Generator bearings damaged',\n",
    "            xy=(time, df.loc[time]['Gen_Bear2_Temp']),\n",
    "            xytext=(-120, 25), textcoords='offset points',\n",
    "            ha='center', va='bottom',\n",
    "             bbox=dict(boxstyle='round,pad=0.2', fc='yellow', alpha=0.4),\n",
    "            arrowprops=dict(arrowstyle='->', connectionstyle='arc3', \n",
    "                            color='black', lw=2), fontsize=12)\n",
    "\n",
    "time = '2017-08-21 16:50:00'\n",
    "ax[1].annotate('Generator damaged',\n",
    "            xy=(time, df.loc[time]['Gen_Bear_Temp']),\n",
    "            xytext=(-150, -50), textcoords='offset points',\n",
    "            ha='center', va='bottom',\n",
    "             bbox=dict(boxstyle='round,pad=0.2', fc='yellow', alpha=0.4),\n",
    "            arrowprops=dict(arrowstyle='->', connectionstyle='arc3', \n",
    "                            color='black', lw=2), fontsize=12)\n",
    "\n",
    "locator = mdates.AutoDateLocator()\n",
    "formatter = mdates.ConciseDateFormatter(locator)\n",
    "# formatter = mdates.DateFormatter('%H')\n",
    "ax[1].xaxis.set_major_locator(mdates.DayLocator())\n",
    "ax[1].xaxis.set_major_formatter(formatter)\n",
    "ax[1].set_ylabel('Temperature ($^\\circ$C)', fontsize=16)\n",
    "plt.setp(ax[1].get_xticklabels(), rotation=0, ha=\"center\", fontsize=12)\n",
    "plt.yticks(fontsize=12)\n",
    "\n",
    "# handles, labels = ax[0].get_legend_handles_labels()\n",
    "# fig.legend(handles, labels, fontsize=12)\n",
    "plt.tight_layout()\n",
    "\n",
    "# plt.savefig('figs\\gen_failures.png', bbox_inches='tight')\n",
    "plt.show()"
   ]
  },
  {
   "cell_type": "markdown",
   "id": "0e1216c1-c030-47ca-b35f-4677bc4f658d",
   "metadata": {
    "tags": []
   },
   "source": [
    "# Training and cv"
   ]
  },
  {
   "cell_type": "code",
   "execution_count": null,
   "id": "c838405e-e5f7-49d0-8e1c-87aace0c3d82",
   "metadata": {
    "tags": []
   },
   "outputs": [],
   "source": [
    "# Train models\n",
    "models = train_models(X_train, y_train)"
   ]
  },
  {
   "cell_type": "code",
   "execution_count": 5,
   "id": "53afed2d-1e47-4dcd-9ed3-f1f47af7b67b",
   "metadata": {},
   "outputs": [],
   "source": [
    "# write\n",
    "# for model in models:\n",
    "#     filename = f'{str(model)[:3]}.sav'\n",
    "#     pickle.dump(model, open(filename, 'wb'))\n",
    "    \n",
    "# read\n",
    "models_short = ['Lin', 'XGB', 'Ran', 'Pip']\n",
    "models = []\n",
    "for model in models_short:\n",
    "    filename = f'{model}.sav'\n",
    "    models.append(pickle.load(open(filename, 'rb')))"
   ]
  },
  {
   "cell_type": "code",
   "execution_count": null,
   "id": "2665a8c0-defc-422c-ba62-fe27c0404079",
   "metadata": {
    "tags": []
   },
   "outputs": [],
   "source": [
    "# Cross-validate NaN-compatible models\n",
    "CV(df, models, features, target)"
   ]
  },
  {
   "cell_type": "code",
   "execution_count": null,
   "id": "526efdd8-32ad-4427-ae4d-87042f5a62fb",
   "metadata": {},
   "outputs": [],
   "source": [
    "sns.set(style=\"ticks\")\n",
    "fig, ax = plt.subplots()\n",
    "corr = train[[target] + features].corr()\n",
    "\n",
    "heatmap = sns.heatmap(corr, annot=True, cmap='coolwarm', vmin=-1, vmax=1, annot_kws={\"size\": 18*cm}, ax=ax)\n",
    "# plt.xticks(rotation=60) #, fontsize=12)\n",
    "# plt.yticks(fontsize=12)\n",
    "plt.tight_layout()\n",
    "plt.savefig('figs\\corr_matrix.png', bbox_inches='tight')\n",
    "plt.show()"
   ]
  },
  {
   "cell_type": "code",
   "execution_count": null,
   "id": "0baa10d1-31b7-432d-b65b-dc455abc62ee",
   "metadata": {},
   "outputs": [],
   "source": [
    "g = pd.plotting.scatter_matrix(df[[target]+features], marker = 'o', hist_kwds = {'bins': 10}, alpha = 0.8)\n",
    "plt.show()"
   ]
  },
  {
   "cell_type": "code",
   "execution_count": null,
   "id": "8e0df85f-1ab0-4867-a308-0b841d718538",
   "metadata": {},
   "outputs": [],
   "source": [
    "# sns.set_context(\"paper\", rc={\"axes.labelsize\":16, \"axes.ticksize\":32})   \n",
    "# sns.set(style=\"ticks\", font_scale = 1.5)\n",
    "# fig, ax = plt.subplots(figsize=(30*cm, 30*cm))\n",
    "p = sns.pairplot(train[[target] + features], diag_kind = \"hist\",\n",
    "             diag_kws = {'alpha':1, 'bins':25}, \n",
    "             plot_kws={\"s\": 3.5*cm})\n",
    "\n",
    "# plt.tight_layout()\n",
    "plt.savefig('figs\\pairplot.png', bbox_inches='tight')\n",
    "plt.show()"
   ]
  },
  {
   "cell_type": "code",
   "execution_count": null,
   "id": "a1cb6b95-1134-4137-8208-cadf8205c8c2",
   "metadata": {},
   "outputs": [],
   "source": [
    "sns.pairplot(train[[target] + features], hue = \"Gen_Bear_Temp\", diag_kind = \"hist\", \n",
    "             diag_kws = {'alpha':0.55, 'bins':25}, palette = \"coolwarm\", plot_kws={\"s\": 3})\n",
    "plt.savefig('figs\\pairplot_col.png', bbox_inches='tight')\n",
    "plt.show()"
   ]
  },
  {
   "cell_type": "markdown",
   "id": "419e49e8-724b-4b7a-9db5-c603c8f8b7e5",
   "metadata": {
    "tags": []
   },
   "source": [
    "# Predictions"
   ]
  },
  {
   "cell_type": "code",
   "execution_count": 6,
   "id": "5e3098f7-0917-45f4-9650-9354dfe931ca",
   "metadata": {},
   "outputs": [
    {
     "name": "stdout",
     "output_type": "stream",
     "text": [
      "0.003000020980834961\n",
      "0.030063152313232422\n",
      "0.8273508548736572\n",
      "234.9828064441681\n"
     ]
    }
   ],
   "source": [
    "# Predicting and adding predictions to main dataframe\n",
    "df = predict(X_test, df, models)"
   ]
  },
  {
   "cell_type": "code",
   "execution_count": null,
   "id": "e0cdd415-d7b4-450b-9edd-de075ed4a738",
   "metadata": {
    "tags": []
   },
   "outputs": [],
   "source": [
    "# Make custom prediction with features in following order: \n",
    "#'Gen_RPM', 'Gen_Phase_Temp', 'Nac_Temp', 'Wind_Speed', 'Amb_temp'\n",
    "models[0].predict(np.array([0, 140, 70, 19, 47]).reshape(1,-1))"
   ]
  },
  {
   "cell_type": "markdown",
   "id": "133f5e95-d8ad-49d5-a7fa-131bd5be58cf",
   "metadata": {},
   "source": [
    "# Metrics"
   ]
  },
  {
   "cell_type": "code",
   "execution_count": null,
   "id": "259c574a-708b-47b5-a32f-031580e739b1",
   "metadata": {
    "tags": []
   },
   "outputs": [],
   "source": [
    "from sklearn.cluster import DBSCAN\n",
    "feature_1 = 'Wind_Speed'\n",
    "feature_2 = 'Gen_RPM'\n",
    "X = df.query('~(Prod_Pwr < 0 & Wind_Speed >= 4 & index < 2017)').loc[:'2016'][[feature_1, feature_2]].values\n",
    "\n",
    "db = DBSCAN(eps=3, min_samples=10).fit(X)\n",
    "labels = db.labels_\n",
    "\n",
    "# Number of clusters in labels, ignoring noise if present.\n",
    "n_clusters_ = len(set(labels)) - (1 if -1 in labels else 0)\n",
    "n_noise_ = list(labels).count(-1)\n",
    "\n",
    "print(\"Estimated number of clusters: %d\" % n_clusters_)\n",
    "print(\"Estimated number of noise points: %d\" % n_noise_)\n",
    "\n",
    "# Plot the clusters\n",
    "plt.scatter(X[:, 0], X[:,1], c = labels) # plotting the clusters\n",
    "plt.xlabel(\"Wind Speed (m/s)\") # X-axis label\n",
    "plt.ylabel(\"Power (kW)\") # Y-axis label\n",
    "plt.show() # showing the plot"
   ]
  },
  {
   "cell_type": "code",
   "execution_count": null,
   "id": "59fd0ca4-2483-4e0f-be34-648a6d6b14dd",
   "metadata": {},
   "outputs": [],
   "source": [
    "feature_1 = 'Wind_Speed'\n",
    "feature_2 = 'Gen_RPM'\n",
    "\n",
    "plt.scatter(test[feature_1], test[feature_2])\n",
    "plt.xlabel(\"Wind Speed (m/s)\") # X-axis label\n",
    "plt.ylabel(\"Power (kW)\") # Y-axis label\n",
    "plt.show()"
   ]
  },
  {
   "cell_type": "code",
   "execution_count": 11,
   "id": "71a20d94-f1f4-4e81-bc04-b67fcbf4f504",
   "metadata": {},
   "outputs": [],
   "source": [
    "def remove_outliers(df):\n",
    "    feature_1 = 'Wind_Speed'\n",
    "    feature_2 = 'Prod_Pwr'\n",
    "    X = df.loc[:'2016'][[feature_1, feature_2]].values\n",
    "    db = DBSCAN(eps=1.4, min_samples=10).fit(X)\n",
    "    labels = db.labels_\n",
    "    \n",
    "    return labels"
   ]
  },
  {
   "cell_type": "code",
   "execution_count": 12,
   "id": "652422ac-1c0d-4c7b-ac42-fe0f1527207c",
   "metadata": {},
   "outputs": [],
   "source": [
    "from sklearn.cluster import DBSCAN\n",
    "# train = train.query('~(Prod_Pwr < 0 & Wind_Speed >= 4 & index < 2017)')\n",
    "\n",
    "labels = remove_outliers(train)\n",
    "labels = pd.Series(labels, train.index, name='Label')\n",
    "train = pd.concat([train, labels], axis=1) \n",
    "train['Label'] = train['Label'].fillna(0)\n",
    "train['Label'] = train['Label'].astype('int')\n",
    "# train = train.query('Label == 0')"
   ]
  },
  {
   "cell_type": "code",
   "execution_count": 28,
   "id": "fe48318d-c79b-4157-b468-0eba10708536",
   "metadata": {},
   "outputs": [
    {
     "data": {
      "image/png": "[encoded data removed]",
      "text/plain": [
       "<Figure size 393.701x787.402 with 2 Axes>"
      ]
     },
     "metadata": {},
     "output_type": "display_data"
    }
   ],
   "source": [
    "fig, axs = plt.subplots(2, figsize=(10*cm, 20*cm), sharey=True, sharex=True)\n",
    "\n",
    "feature_1 = 'Wind_Speed'\n",
    "feature_2 = 'Prod_Pwr'\n",
    "\n",
    "sc = axs[0].scatter(train[feature_1], train[feature_2])\n",
    "axs[0].set_xlabel(\"Wind Speed (m/s)\") # X-axis label\n",
    "axs[0].set_ylabel(\"Power (kW)\") # Y-axis label\n",
    "axs[0].set_title('(A)')\n",
    "plt.ylim(-200,2200)\n",
    "\n",
    "df1 = train.query('Label==0')\n",
    "df1 = df1.query('~(Gen_Bear_Temp > 100 & index < 2017)')\n",
    "df1 = df1.query('~(Prod_Pwr < 0 & Wind_Speed >= 4 & index < 2017)')\n",
    "axs[1].scatter(df1[feature_1], df1[feature_2])\n",
    "axs[1].set_xlabel(\"Wind Speed (m/s)\") # X-axis label\n",
    "axs[1].set_ylabel(\"Power (kW)\") # Y-axis label\n",
    "axs[1].set_title('(B)')\n",
    "# axs[0].set_aspect(1.0/axs[0].get_data_ratio(), adjustable='box')\n",
    "\n",
    "# plt.tight_layout()\n",
    "plt.savefig('figs\\power_curve_sc.png', bbox_inches='tight')\n",
    "plt.show()"
   ]
  },
  {
   "cell_type": "code",
   "execution_count": null,
   "id": "5bd676df-a11d-433f-9e9b-8fb85ab51fba",
   "metadata": {},
   "outputs": [],
   "source": [
    "# Add metrics to dataframe\n",
    "metrics = metric(df, models, target)"
   ]
  },
  {
   "cell_type": "code",
   "execution_count": null,
   "id": "41d1621a-21ea-4b19-b139-818c5d58cb6a",
   "metadata": {},
   "outputs": [],
   "source": [
    "metrics"
   ]
  },
  {
   "cell_type": "code",
   "execution_count": null,
   "id": "5dcc4dc4-8979-4bea-af5e-13463d46627c",
   "metadata": {
    "tags": []
   },
   "outputs": [],
   "source": [
    "# Plot metrics\n",
    "ax = metrics.T.plot(kind='bar', title='Metric Scores', xlabel='Metric', ylabel='Score', width=0.8)\n",
    "\n",
    "for p in ax.patches:\n",
    "    ax.annotate(str(p.get_height()), (p.get_x() * 1.005, p.get_height() * 1.005), rotation=45)\n",
    "\n",
    "plt.xticks(rotation=0)\n",
    "plt.show()"
   ]
  },
  {
   "cell_type": "markdown",
   "id": "34271825-4c4d-4adf-a965-140a83f4fed8",
   "metadata": {},
   "source": [
    "# Plotting predicted and actual values"
   ]
  },
  {
   "cell_type": "code",
   "execution_count": null,
   "id": "4dd6d29f-219e-4d69-bf20-5fe8aa6b988c",
   "metadata": {},
   "outputs": [],
   "source": [
    "import datetime as dt"
   ]
  },
  {
   "cell_type": "code",
   "execution_count": null,
   "id": "33b4fda0-a7a7-4234-b79c-10822ffb98e7",
   "metadata": {
    "tags": []
   },
   "outputs": [],
   "source": [
    "# Plot real value vs predicted values\n",
    "start = '2017-06-07'\n",
    "end = '2017-06-23'\n",
    "\n",
    "start = '2017-05-13'\n",
    "end = '2017-05-27'\n",
    "# start = '2017'\n",
    "# end = '2017-01-15'\n",
    "\n",
    "fig, ax = plt.subplots(figsize=(15,7))\n",
    "\n",
    "SD = np.std(df['XGB'] - df['Gen_Bear_Temp'])\n",
    "\n",
    "# ax = df[start:end].groupby(pd.PeriodIndex(df[start:end].index, freq=\"W\"))['Gen_Bear_Temp'].mean().plot(label='Actual', x_compat=True)\n",
    "# df[start:end].groupby(pd.PeriodIndex(df[start:end].index, freq=\"W\"))['XGB'].mean().plot(label='Predicted')\n",
    "ax = df[start:end]['Gen_Bear_Temp'].plot(label='Actual', x_compat=True)\n",
    "df[start:end]['XGB'].plot(label='Predicted')\n",
    "(df[start:end]['XGB'] + 2*SD).plot(label='Predicted + 2SD')\n",
    "(df[start:end]['XGB'] - 2*SD).plot(label='Predicted - 2SD')\n",
    "\n",
    "\n",
    "ax.set_ylim(0,100)\n",
    "# ax.set_ylim(20,70)\n",
    "ax.set_ylabel('Temperature ($^\\circ$C)')\n",
    "\n",
    "locator = mdates.AutoDateLocator()\n",
    "formatter = mdates.ConciseDateFormatter(locator)\n",
    "ax.xaxis.set_major_locator(mdates.DayLocator())\n",
    "# ax.xaxis.set_major_locator(locator)\n",
    "ax.xaxis.set_major_formatter(formatter)\n",
    "\n",
    "# ax.axvspan('2017-06-07 21:20:00', '2017-06-08 03:00:00', color=\"green\", alpha=0.3) \n",
    "# ax.axvspan('2017-08-20 08:10', '2017-08-21 15:50', color=\"green\", alpha=0.3) \n",
    "# ax.axvspan('2017-08-20 07:50', '2017-08-28 22:10', color=\"green\", alpha=0.3) \n",
    "ax.axvspan('2017-05-15 15:50', '2017-05-15 21', color=\"green\", alpha=0.3) \n",
    "# ax.axvspan('2017-06-19 20:30', '2017-06-20 01:20', color=\"green\", alpha=0.3) \n",
    "\n",
    "# time = '2017-01-07 17:40:00'\n",
    "# ax.annotate(time,\n",
    "#             xy=(time, df.loc[time]['Gen_Bear_Temp']),\n",
    "#             xytext=(50, 70), textcoords='offset points',\n",
    "#             ha='center', va='bottom',\n",
    "#              bbox=dict(boxstyle='round,pad=0.2', fc='yellow', alpha=0.4),\n",
    "#             arrowprops=dict(arrowstyle='->', connectionstyle='arc3', \n",
    "#                             color='black', lw=2), fontsize=12)\n",
    "\n",
    "# time = '2017-06-07 23:10:00'\n",
    "# ax.annotate(time,\n",
    "#             xy=(time, df.loc[time]['Gen_Bear_Temp']),\n",
    "#             xytext=(-130, -50), textcoords='offset points',\n",
    "#             ha='center', va='bottom',\n",
    "#              bbox=dict(boxstyle='round,pad=0.2', fc='yellow', alpha=0.4),\n",
    "#             arrowprops=dict(arrowstyle='->', connectionstyle='arc3', \n",
    "#                             color='black', lw=2), fontsize=12)\n",
    "\n",
    "# time = '2017-06-07 23:10:00'\n",
    "# ax.annotate(time,\n",
    "#             xy=(time, df.loc[time]['Gen_Bear_Temp']),\n",
    "#             xytext=(130, -10), textcoords='offset points',\n",
    "#             ha='center', va='bottom',\n",
    "#              bbox=dict(boxstyle='round,pad=0.2', fc='yellow', alpha=0.4),\n",
    "#             arrowprops=dict(arrowstyle='->', connectionstyle='arc3', \n",
    "#                             color='black', lw=2), fontsize=12)\n",
    "\n",
    "# time = '2017-08-27 07:20:00'\n",
    "# ax.annotate(time,\n",
    "#             xy=(time, df.loc[time]['XGB']),\n",
    "#             xytext=(-30, 120), textcoords='offset points',\n",
    "#             ha='center', va='bottom',\n",
    "#              bbox=dict(boxstyle='round,pad=0.2', fc='yellow', alpha=0.4),\n",
    "#             arrowprops=dict(arrowstyle='->', connectionstyle='arc3', \n",
    "#                             color='black', lw=2), fontsize=12)\n",
    "\n",
    "# time = '2017-08-20 07:50'\n",
    "# ax.annotate(time,\n",
    "#             xy=(time, df.loc[time]['XGB']),\n",
    "#             xytext=(-100, 70), textcoords='offset points',\n",
    "#             ha='center', va='bottom',\n",
    "#              bbox=dict(boxstyle='round,pad=0.2', fc='yellow', alpha=0.4),\n",
    "#             arrowprops=dict(arrowstyle='->', connectionstyle='arc3', \n",
    "#                             color='black', lw=2), fontsize=12)\n",
    "\n",
    "for label in ax.get_xticklabels(which='major'):\n",
    "    label.set(rotation=0, horizontalalignment='center')\n",
    "\n",
    "plt.legend(loc=1, framealpha=1)\n",
    "plt.savefig('figs\\preds_may.png', bbox_inches='tight')\n",
    "plt.show()"
   ]
  },
  {
   "cell_type": "code",
   "execution_count": null,
   "id": "adb2958e-d43c-4af5-afa4-fe8389ec95f4",
   "metadata": {},
   "outputs": [],
   "source": [
    "df.Gen_Bear_Temp.sort_values().tail(50)"
   ]
  },
  {
   "cell_type": "code",
   "execution_count": null,
   "id": "644c649f-1696-480c-adae-bd0bbe7ac5a4",
   "metadata": {},
   "outputs": [],
   "source": [
    "pd.set_option('display.max_rows', 500)"
   ]
  },
  {
   "cell_type": "code",
   "execution_count": null,
   "id": "4dc9a95d-5666-4f7a-8adb-da76e98644f8",
   "metadata": {},
   "outputs": [],
   "source": [
    "# df.query('XGB + 2*@SD < Gen_Bear_Temp').head(500)"
   ]
  },
  {
   "cell_type": "code",
   "execution_count": null,
   "id": "8394679e-1cd0-4068-ac21-8f9331ee1586",
   "metadata": {},
   "outputs": [],
   "source": [
    "# Calculate error and show timestamps of largest errors\n",
    "df = errors(df, models, target)"
   ]
  },
  {
   "cell_type": "code",
   "execution_count": null,
   "id": "f2bfecfb-e1e5-42eb-96e5-f8585850244d",
   "metadata": {},
   "outputs": [],
   "source": [
    "df['error_XGB'].sort_values(ascending=False).head(30)"
   ]
  },
  {
   "cell_type": "code",
   "execution_count": null,
   "id": "782ae613-68a3-4acb-850f-7d0ef1f31f9b",
   "metadata": {},
   "outputs": [],
   "source": [
    "model = models[0]\n",
    "\n",
    "print(\"Model coefficients:\\n\")\n",
    "for i in range(X_train.shape[1]):\n",
    "    print(X_train.columns[i], \"=\", model.coef_[i].round(5))"
   ]
  },
  {
   "cell_type": "code",
   "execution_count": null,
   "id": "3749ee33-a2b6-424e-9a4d-0d514f4fff21",
   "metadata": {},
   "outputs": [],
   "source": [
    "start = '2016'\n",
    "end = '2017'\n",
    "\n",
    "df.loc[(df.index > start) & (df.index < end)].plot(\n",
    "    x='Wind_Speed', y='Gen_Bear_Temp', style='o')\n",
    "\n",
    "plt.show()"
   ]
  },
  {
   "cell_type": "code",
   "execution_count": null,
   "id": "7001ed78-85ff-411d-a572-e616cc7384b6",
   "metadata": {},
   "outputs": [],
   "source": [
    "start = '2017'\n",
    "end = '2018'\n",
    "\n",
    "df.loc[(df.index > start) & (df.index < end)].plot(\n",
    "    x='Wind_Speed', y='Gen_Bear_Temp', style='o')\n",
    "\n",
    "plt.show()"
   ]
  },
  {
   "cell_type": "markdown",
   "id": "9ff5f401-b333-4142-9edd-dc476aea2d75",
   "metadata": {},
   "source": [
    "# Hyperparameter tuning"
   ]
  },
  {
   "cell_type": "code",
   "execution_count": null,
   "id": "0cbc3077-33b0-4af7-95d7-2431ae6f9287",
   "metadata": {
    "tags": []
   },
   "outputs": [],
   "source": [
    "# GridSearch to tune hyperparameters of selected model\n",
    "model = models[3]\n",
    "param_grid = param_selection(model)\n",
    "scores = ['neg_mean_absolute_error', 'neg_mean_squared_error', 'r2']\n",
    "\n",
    "tss = TimeSeriesSplit(n_splits=4, test_size=6*24*30, gap=6*24)\n",
    "search = GridSearchCV(model, param_grid, cv=tss, verbose=3, n_jobs=-1, scoring=scores, refit='r2')\n",
    "\n",
    "grid = best_params(X_train, y_train, search)\n",
    "grid"
   ]
  },
  {
   "cell_type": "code",
   "execution_count": null,
   "id": "f5673937-f122-4837-981f-ece339f6d624",
   "metadata": {},
   "outputs": [],
   "source": [
    "grid.to_pickle(\"param_tuning.pkl\")"
   ]
  },
  {
   "cell_type": "code",
   "execution_count": null,
   "id": "69f1afdf-849a-4dd0-8ab0-2c57286ec06b",
   "metadata": {},
   "outputs": [],
   "source": [
    "grid = pd.read_pickle(\"param_tuning.pkl\")"
   ]
  },
  {
   "cell_type": "code",
   "execution_count": null,
   "id": "d2049c0b-142e-4a26-b4a4-927c14179ea4",
   "metadata": {},
   "outputs": [],
   "source": [
    "fig, ax = plt.subplots(1,3, figsize=(12,9))\n",
    "color = plt.rcParams['axes.prop_cycle'].by_key()['color'][2]\n",
    "\n",
    "y2_ticks = [0.975, 0.98, 0.985, 0.99, 0.995, 1]\n",
    "#[0.970, 0.974, 0.978, 0.982, 0.986, 0.99]\n",
    "\n",
    "cv_results = abs(grid.loc[\n",
    "    (grid['param_max_depth'] == 4) & (grid['param_n_estimators'] == 1000) # learning_rate\n",
    "][[\n",
    "    'param_learning_rate', 'param_max_depth', 'param_n_estimators', 'mean_test_neg_mean_absolute_error', \n",
    "    'mean_test_neg_mean_squared_error', 'mean_test_r2']])\n",
    "\n",
    "N_est = cv_results.param_learning_rate\n",
    "R2 = cv_results.mean_test_r2\n",
    "RMSE = np.sqrt(cv_results.mean_test_neg_mean_squared_error)\n",
    "MAE = cv_results.mean_test_neg_mean_absolute_error\n",
    "\n",
    "lns1 = ax[0].plot(N_est, RMSE, '-s', label = 'RMSE', lw=2)\n",
    "lns2 = ax[0].plot(N_est, MAE, '-o', label = 'MAE', lw=2)\n",
    "ax2 = ax[0].twinx()\n",
    "lns3 = ax2.plot(N_est, R2, '-d', label = 'R\\u00b2', lw=2, color=color)\n",
    "\n",
    "lns = lns1+lns2+lns3\n",
    "labs = [l.get_label() for l in lns]\n",
    "ax[0].legend(lns, labs, loc='best')\n",
    "\n",
    "ax[0].set_xlabel('learning_rate', fontsize=16)\n",
    "ax[0].set_ylabel('Error', fontsize=16)\n",
    "ax[0].set_ylim(1,2)\n",
    "#ax2.set_ylim(0.965,0.99)\n",
    "ax2.set_yticks(y2_ticks)\n",
    "ax[0].set_xlim(0,0.11)\n",
    "ax[0].set_xticks([0.01, 0.05, 0.1])\n",
    "ax2.set_ylabel('R\\u00b2', fontsize=16, color=color)\n",
    "# ax2.spines['right'].set_color(color)\n",
    "ax2.tick_params(axis='y', colors=color)\n",
    "\n",
    "cv_results = abs(grid.loc[\n",
    "    (grid['param_learning_rate'] == 0.05) & (grid['param_n_estimators'] == 1000) # max_depth\n",
    "][[\n",
    "    'param_learning_rate', 'param_max_depth', 'param_n_estimators', 'mean_test_neg_mean_absolute_error', \n",
    "    'mean_test_neg_mean_squared_error', 'mean_test_r2']])\n",
    "\n",
    "N_est = cv_results.param_max_depth\n",
    "R2 = cv_results.mean_test_r2\n",
    "RMSE = np.sqrt(cv_results.mean_test_neg_mean_squared_error)\n",
    "MAE = cv_results.mean_test_neg_mean_absolute_error\n",
    "\n",
    "lns1 = ax[1].plot(N_est, RMSE, '-s', label = 'RMSE', lw=2)\n",
    "lns2 = ax[1].plot(N_est, MAE, '-o', label = 'MAE', lw=2)\n",
    "ax2 = ax[1].twinx()\n",
    "lns3 = ax2.plot(N_est, R2, '-d', label = 'R\\u00b2', lw=2, color=color)\n",
    "\n",
    "lns = lns1+lns2+lns3\n",
    "labs = [l.get_label() for l in lns]\n",
    "ax[1].legend(lns, labs, loc='best')\n",
    "ax[1].set_xlabel('max_depth', fontsize=16)\n",
    "ax[1].set_ylabel('Error', fontsize=16)\n",
    "ax[1].set_ylim(1,2)\n",
    "ax2.set_yticks(y2_ticks)\n",
    "#ax2.set_ylim(0.98, 0.99)\n",
    "ax[1].set_xlim(2,10)\n",
    "ax[1].set_xticks([3, 4, 5, 6, 7, 8, 9])\n",
    "ax2.set_ylabel('R\\u00b2', fontsize=16, color=color)\n",
    "# ax2.spines['right'].set_color(color)\n",
    "ax2.tick_params(axis='y', colors=color)\n",
    "\n",
    "cv_results = abs(grid.loc[\n",
    "    (grid['param_max_depth'] == 4) & (grid['param_learning_rate'] == 0.05) # n_estimators\n",
    "][[\n",
    "    'param_learning_rate', 'param_max_depth', 'param_n_estimators', 'mean_test_neg_mean_absolute_error', \n",
    "    'mean_test_neg_mean_squared_error', 'mean_test_r2']])\n",
    "\n",
    "N_est = cv_results.param_n_estimators\n",
    "R2 = cv_results.mean_test_r2\n",
    "RMSE = np.sqrt(cv_results.mean_test_neg_mean_squared_error)\n",
    "MAE = cv_results.mean_test_neg_mean_absolute_error\n",
    "\n",
    "lns1 = ax[2].plot(N_est, RMSE, '-s', label = 'RMSE', lw=2)\n",
    "lns2 = ax[2].plot(N_est, MAE, '-o', label = 'MAE', lw=2)\n",
    "ax2 = ax[2].twinx()\n",
    "lns3 = ax2.plot(N_est, R2, '-d', label = 'R\\u00b2', lw=2, color=color)\n",
    "\n",
    "lns = lns1+lns2+lns3\n",
    "labs = [l.get_label() for l in lns]\n",
    "ax[2].legend(lns, labs, loc='best', fontsize=12)\n",
    "ax[2].set_xlabel('n_estimators', fontsize=16)\n",
    "ax[2].set_ylabel('Error', fontsize=16)\n",
    "ax[2].set_ylim(1,2)\n",
    "ax[2].set_xlim(100,1100)\n",
    "ax2.set_yticks(y2_ticks)\n",
    "ax2.set_ylabel('R\\u00b2', fontsize=16, color=color)\n",
    "# ax2.spines['right'].set_color(color)\n",
    "ax2.tick_params(axis='y', colors=color)\n",
    "\n",
    "\n",
    "ax[0].title.set_text('(A)')\n",
    "ax[1].title.set_text('(B)')\n",
    "ax[2].title.set_text('(C)')\n",
    "\n",
    "ax[0].set_box_aspect(1)\n",
    "ax[1].set_box_aspect(1)\n",
    "ax[2].set_box_aspect(1)\n",
    "\n",
    "# for axs in ax.flat:\n",
    "#     for tick in axs.xaxis.get_major_ticks():\n",
    "#         tick.label.set_fontsize(12) \n",
    "#     for tick in axs.yaxis.get_major_ticks():\n",
    "#         tick.label.set_fontsize(12) \n",
    "        \n",
    "plt.tight_layout()\n",
    "plt.savefig(r'figs\\hyp_tuning.png', bbox_inches='tight')\n",
    "plt.show()"
   ]
  },
  {
   "cell_type": "code",
   "execution_count": null,
   "id": "5da80106-ee29-4095-b5fa-0721513e5ff0",
   "metadata": {},
   "outputs": [],
   "source": [
    "fig, ax = plt.subplots(2, 2, figsize=(11,9))\n",
    "\n",
    "y2_ticks = [0.975, 0.98, 0.985, 0.99, 0.995, 1]\n",
    "#[0.970, 0.974, 0.978, 0.982, 0.986, 0.99]\n",
    "\n",
    "cv_results = abs(grid.loc[\n",
    "    (grid['param_max_depth'] == 4) & (grid['param_n_estimators'] == 1000) # learning_rate\n",
    "][[\n",
    "    'param_learning_rate', 'param_max_depth', 'param_n_estimators', 'mean_test_neg_mean_absolute_error', \n",
    "    'mean_test_neg_mean_squared_error', 'mean_test_r2']])\n",
    "\n",
    "N_est = cv_results.param_learning_rate\n",
    "R2 = cv_results.mean_test_r2\n",
    "RMSE = np.sqrt(cv_results.mean_test_neg_mean_squared_error)\n",
    "MAE = cv_results.mean_test_neg_mean_absolute_error\n",
    "\n",
    "lns1 = ax[0,0].plot(N_est, RMSE, '-s', label = 'RMSE', lw=2, color='b')\n",
    "lns2 = ax[0,0].plot(N_est, MAE, '-o', label = 'MAE', lw=2, color='r')\n",
    "ax2 = ax[0,0].twinx()\n",
    "lns3 = ax2.plot(N_est, R2, '-d', label = 'R\\u00b2', lw=2, color='g')\n",
    "\n",
    "lns = lns1+lns2+lns3\n",
    "labs = [l.get_label() for l in lns]\n",
    "ax[0,0].legend(lns, labs, loc='best')\n",
    "\n",
    "ax[0,0].set_xlabel('learning_rate', fontsize=16)\n",
    "ax[0,0].set_ylabel('Error', fontsize=16)\n",
    "ax[0,0].set_ylim(1,2)\n",
    "#ax2.set_ylim(0.965,0.99)\n",
    "ax2.set_yticks(y2_ticks)\n",
    "ax[0,0].set_xlim(0,0.11)\n",
    "ax[0,0].set_xticks([0.01, 0.05, 0.1])\n",
    "ax2.set_ylabel('R\\u00b2')\n",
    "\n",
    "\n",
    "cv_results = abs(grid.loc[\n",
    "    (grid['param_learning_rate'] == 0.05) & (grid['param_n_estimators'] == 1000) # max_depth\n",
    "][[\n",
    "    'param_learning_rate', 'param_max_depth', 'param_n_estimators', 'mean_test_neg_mean_absolute_error', \n",
    "    'mean_test_neg_mean_squared_error', 'mean_test_r2']])\n",
    "\n",
    "N_est = cv_results.param_max_depth\n",
    "R2 = cv_results.mean_test_r2\n",
    "RMSE = np.sqrt(cv_results.mean_test_neg_mean_squared_error)\n",
    "MAE = cv_results.mean_test_neg_mean_absolute_error\n",
    "\n",
    "lns1 = ax[0,1].plot(N_est, RMSE, '-s', label = 'RMSE', lw=2, color='b')\n",
    "lns2 = ax[0,1].plot(N_est, MAE, '-o', label = 'MAE', lw=2, color='r')\n",
    "ax2 = ax[0,1].twinx()\n",
    "lns3 = ax2.plot(N_est, R2, '-d', label = 'R\\u00b2', lw=2, color='g')\n",
    "\n",
    "lns = lns1+lns2+lns3\n",
    "labs = [l.get_label() for l in lns]\n",
    "ax[0,1].legend(lns, labs, loc='best')\n",
    "\n",
    "ax[0,1].set_xlabel('max_depth', fontsize=16)\n",
    "ax[0,1].set_ylabel('Error', fontsize=16)\n",
    "ax[0,1].set_ylim(1,2)\n",
    "ax2.set_yticks(y2_ticks)\n",
    "#ax2.set_ylim(0.98, 0.99)\n",
    "ax[0,1].set_xlim(2,10)\n",
    "ax[0,1].set_xticks([3, 4, 5, 6, 7, 8, 9])\n",
    "ax2.set_ylabel('R\\u00b2')\n",
    "\n",
    "\n",
    "cv_results = abs(grid.loc[\n",
    "    (grid['param_max_depth'] == 4) & (grid['param_learning_rate'] == 0.05) # n_estimators\n",
    "][[\n",
    "    'param_learning_rate', 'param_max_depth', 'param_n_estimators', 'mean_test_neg_mean_absolute_error', \n",
    "    'mean_test_neg_mean_squared_error', 'mean_test_r2']])\n",
    "\n",
    "N_est = cv_results.param_n_estimators\n",
    "R2 = cv_results.mean_test_r2\n",
    "RMSE = np.sqrt(cv_results.mean_test_neg_mean_squared_error)\n",
    "MAE = cv_results.mean_test_neg_mean_absolute_error\n",
    "\n",
    "lns1 = ax[1,0].plot(N_est, RMSE, '-s', label = 'RMSE', lw=2, color='b')\n",
    "lns2 = ax[1,0].plot(N_est, MAE, '-o', label = 'MAE', lw=2, color='r')\n",
    "ax2 = ax[1,0].twinx()\n",
    "lns3 = ax2.plot(N_est, R2, '-d', label = 'R\\u00b2', lw=2, color='g')\n",
    "\n",
    "lns = lns1+lns2+lns3\n",
    "labs = [l.get_label() for l in lns]\n",
    "ax[1,0].legend(lns, labs, loc='best')\n",
    "ax[1,0].set_xlabel('n_estimators', fontsize=16)\n",
    "ax[1,0].set_ylabel('Error', fontsize=16)\n",
    "ax[1,0].set_ylim(1,2)\n",
    "#ax2.set_ylim(0.97, 0.99)\n",
    "ax2.set_yticks(y2_ticks)\n",
    "ax[1,0].set_xlim(100,1100)\n",
    "ax2.set_ylabel('R\\u00b2')\n",
    "\n",
    "ax[0,0].title.set_text('(A)')\n",
    "ax[0,1].title.set_text('(B)')\n",
    "ax[1,0].title.set_text('(C)')\n",
    "\n",
    "ax[1][1].set_visible(False)\n",
    "ax[0,0].set_box_aspect(1)\n",
    "ax[0,1].set_box_aspect(1)\n",
    "ax[1,0].set_box_aspect(1)\n",
    "\n",
    "plt.tight_layout()\n",
    "plt.savefig(r'figs\\hyp_tuning.png', bbox_inches='tight')\n",
    "plt.show()"
   ]
  },
  {
   "cell_type": "markdown",
   "id": "a7502573-7f30-4ecc-9e7c-04bfd5edc8cd",
   "metadata": {},
   "source": [
    "# Residuals"
   ]
  },
  {
   "cell_type": "code",
   "execution_count": 13,
   "id": "f63b4615-71ed-4920-b79c-88096c5764d0",
   "metadata": {},
   "outputs": [
    {
     "data": {
      "image/png": "[encoded data removed]",
      "text/plain": [
       "<Figure size 787.402x787.402 with 1 Axes>"
      ]
     },
     "metadata": {},
     "output_type": "display_data"
    }
   ],
   "source": [
    "columns =  ['Lin', 'Ran', 'Pip', 'XGB']\n",
    "labels = ['LR', 'RF', 'SVR', 'XGBoost']\n",
    "symbols = ['s', 'o', 'd', '^']\n",
    "\n",
    "# resid = df.query('index >= 2017')[col] - df.query('index >= 2017')['Gen_Bear_Temp']\n",
    "\n",
    "\n",
    "fig, ax = plt.subplots(figsize=(20*cm,20*cm))\n",
    "\n",
    "for idx, col in enumerate(columns):\n",
    "#     ax = sns.residplot(x=y_test, y=df.query('index >= 2017')[col], scatter_kws={'alpha':1, 'marker':symbols[idx], 's':60}, label=labels[idx])\n",
    "    resid = df.query('index >= 2017')[col] - df.query('index >= 2017')['Gen_Bear_Temp']\n",
    "    ax = sns.scatterplot(x=y_test, y=resid, label=labels[idx], s=30.5*cm)\n",
    "\n",
    "ax.set_ylim(-35,35)\n",
    "plt.ylabel('Residual Temperature ($^\\circ$C)')\n",
    "plt.legend()\n",
    "# plt.savefig(r'figs\\residuals_all.png', bbox_inches='tight')\n",
    "plt.show()"
   ]
  },
  {
   "cell_type": "code",
   "execution_count": null,
   "id": "690e5792-4b86-4810-b67b-137c2ac65052",
   "metadata": {},
   "outputs": [],
   "source": [
    "fig, ax = plt.subplots(4,1, figsize=(15,20), sharey=True)\n",
    "columns =  ['Lin', 'Ran', 'Pip', 'XGB']\n",
    "labels = ['LR', 'RF', 'SVR', 'XGBoost']\n",
    "\n",
    "for idx, col in enumerate(columns):\n",
    "    sns.residplot(x=y_test, y=df.query('index >= 2017')[col], scatter_kws={'alpha':0.6}, ax=ax[idx], label=labels[idx])\n",
    "    ax[idx].legend()\n",
    "    ax[idx].set_ylim(-30,30)\n",
    "    ax[idx].set_ylabel('Residuals')\n",
    "\n",
    "# plt.savefig(r'figs\\residuals_ind.png', bbox_inches='tight')\n",
    "plt.show()"
   ]
  },
  {
   "cell_type": "code",
   "execution_count": 24,
   "id": "3e2fcd9e-73b5-4dac-8ab7-f79cdf9d53df",
   "metadata": {},
   "outputs": [
    {
     "data": {
      "image/png": "[encoded data removed]",
      "text/plain": [
       "<Figure size 787.402x787.402 with 4 Axes>"
      ]
     },
     "metadata": {},
     "output_type": "display_data"
    }
   ],
   "source": [
    "fig, axs = plt.subplots(2, 2, figsize=(20*cm,20*cm))\n",
    "true_value = y_test\n",
    "labels = ['LR', 'RF', 'SVR', 'XGBoost']\n",
    "for idx, model in enumerate(models):\n",
    "    model = str(model)[:3]\n",
    "    plt.subplot(2, 2, idx+1)\n",
    "    predicted_value = df[model].loc[df[model].notna()]\n",
    "    lo = plt.scatter(true_value, predicted_value, c='crimson', alpha=0.7, s=3.5, label=labels[idx])\n",
    "\n",
    "    p1 = max(max(predicted_value), max(true_value))\n",
    "    p2 = min(min(predicted_value), min(true_value))\n",
    "    plt.plot([p1, p2], [p1, p2], 'b--', label='Perfect agreement (R\\u00b2=1)')\n",
    "    plt.xlabel('Observed Temperature ($^\\circ$C)')\n",
    "    plt.ylabel('Predicted Temperature ($^\\circ$C)')\n",
    "    plt.gca().set_xlim(10,110)\n",
    "    plt.gca().set_ylim(10,110)\n",
    "    plt.gca().set_aspect('equal')\n",
    "    plt.legend()\n",
    "\n",
    "plt.savefig(r'figs\\perf_agr.png', bbox_inches='tight')\n",
    "plt.show()"
   ]
  },
  {
   "cell_type": "code",
   "execution_count": null,
   "id": "29ff51c4-7c82-49e4-b70d-b532d92f50c7",
   "metadata": {},
   "outputs": [],
   "source": [
    "plt.figure(figsize=(8,8))\n",
    "true_value = y_test\n",
    "predicted_value = df['XGB'].loc[df['XGB'].notna()]\n",
    "plt.scatter(true_value, predicted_value, c='crimson', alpha=0.6, lw=0.001)\n",
    "\n",
    "p1 = max(max(predicted_value), max(true_value))\n",
    "p2 = min(min(predicted_value), min(true_value))\n",
    "plt.plot([p1, p2], [p1, p2], 'b--')\n",
    "plt.xlabel('Observed Bearing Temperature ($^\\circ$C)')\n",
    "plt.ylabel('Predicted Bearing Temperature ($^\\circ$C)')\n",
    "plt.axis('equal')\n",
    "plt.show()"
   ]
  },
  {
   "cell_type": "code",
   "execution_count": null,
   "id": "6a35a58e-3749-41d5-8caf-663db06310e6",
   "metadata": {},
   "outputs": [],
   "source": [
    "import graphviz\n",
    "import pylab\n",
    "\n",
    "names = [\n",
    "         \"Wind speed\", \"Generator RPM\", \"Humidity\",\n",
    "         \"Nacelle temperature\", \"Generator phase temperature\",\n",
    "]\n",
    "g = graphviz.Digraph(format='png')\n",
    "for name in names:\n",
    "    g.node(name, fontsize=\"10\")\n",
    "    \n",
    "g.node(\"Generator bearing temperature\", style=\"filled\", fontsize=\"10\")\n",
    "g.edge(\"Wind speed\", \"Generator RPM\")\n",
    "g.edge(\"Generator RPM\", \"Generator phase temperature\")\n",
    "g.edge(\"Generator RPM\", \"Generator bearing temperature\")\n",
    "g.edge(\"Generator phase temperature\", \"Generator bearing temperature\")\n",
    "g.edge(\"Nacelle temperature\", \"Generator bearing temperature\")\n",
    "g.edge(\"Humidity\", \"Generator bearing temperature\")\n",
    "\n",
    "g.view()\n",
    "\n",
    "filename = g.render(filename='img/g')\n",
    "\n",
    "# pylab.savefig('features.png')"
   ]
  },
  {
   "cell_type": "code",
   "execution_count": null,
   "id": "56cd7765-3465-4454-81b1-acc1a8e0b195",
   "metadata": {},
   "outputs": [],
   "source": [
    "feat_importances = pd.Series(model.feature_importances_, index=X_train.columns)\n",
    "feat_importances = feat_importances.sort_values()\n",
    "\n",
    "plt.barh(feat_importances.index, feat_importances.values)\n",
    "plt.xlabel('Share of total feature importance')\n",
    "plt.show()"
   ]
  },
  {
   "cell_type": "markdown",
   "id": "fc83ef00-c220-4863-9ee0-1f889b980f42",
   "metadata": {},
   "source": [
    "# SHAP\n",
    "### Global Explanation"
   ]
  },
  {
   "cell_type": "code",
   "execution_count": null,
   "id": "6181ed97-af17-4b54-9fdc-d9b9443b3f95",
   "metadata": {},
   "outputs": [],
   "source": [
    "import xgboost as xgb\n",
    "XGB = xgb.XGBRegressor(\n",
    "    booster='gbtree',    \n",
    "    n_estimators=100,\n",
    "    objective='reg:squarederror',\n",
    "    max_depth=9,\n",
    "    learning_rate=0.1,\n",
    "    colsample_bytree =0.6,\n",
    "    colsample_bylevel=0.6,\n",
    "    verbosity=0,\n",
    "    n_jobs=-1,\n",
    "    random_state=42\n",
    ")\n",
    "XGB.fit(X_train, y_train)\n",
    "model = XGB"
   ]
  },
  {
   "cell_type": "code",
   "execution_count": null,
   "id": "1a8d5674-5289-41da-a8d7-bb8ffb9b6127",
   "metadata": {},
   "outputs": [],
   "source": [
    "shap.__version__"
   ]
  },
  {
   "cell_type": "code",
   "execution_count": null,
   "id": "4d23a909-9c04-44a2-bf46-31b744212d51",
   "metadata": {},
   "outputs": [],
   "source": [
    "pd.__version__"
   ]
  },
  {
   "cell_type": "code",
   "execution_count": null,
   "id": "34a7cd42-c6dd-435c-9b73-da4d14f1c8f6",
   "metadata": {},
   "outputs": [],
   "source": [
    "np.version.version"
   ]
  },
  {
   "cell_type": "code",
   "execution_count": null,
   "id": "437f95bb-e8e9-432d-ba06-97ecd831d2de",
   "metadata": {},
   "outputs": [],
   "source": [
    "model = models[0]\n",
    "sample = X_test\n",
    "#sample = shap.sample(X_test, 5000, random_state=42)\n",
    "explainer = shap.TreeExplainer(model)\n",
    "shap_values = explainer(sample)"
   ]
  },
  {
   "cell_type": "code",
   "execution_count": null,
   "id": "cfc5e565-f867-46de-abe9-a0983728cc7e",
   "metadata": {},
   "outputs": [],
   "source": [
    "shap.summary_plot(shap_values, sample, alpha=0.05, plot_size=None, show=False)\n",
    "axs[1].set_xlabel(\"SHAP value\")\n",
    "axs[1].set_title('(B)')\n",
    "# plt.gcf().set_size_inches(13,5)\n",
    "# plt.savefig(r'figs\\shap_bee_bar.png', bbox_inches='tight')\n",
    "plt.tight_layout()\n",
    "plt.show()"
   ]
  },
  {
   "cell_type": "code",
   "execution_count": null,
   "id": "ff586047-1111-4010-a18d-2b0eec25a128",
   "metadata": {},
   "outputs": [],
   "source": [
    "# summary plots\n",
    "fig, axs = plt.subplots(1,2, figsize=(15,7))\n",
    "\n",
    "plt.subplot(1,2,1)\n",
    "shap.summary_plot(shap_values, sample, plot_type='bar', show=False)\n",
    "# shap.plots.bar(shap_values, \n",
    "#                #clustering=clust, \n",
    "#                #clustering_cutoff=0, \n",
    "#                show=False)\n",
    "axs[0].set_xlabel(\"Mean absolute SHAP value\")\n",
    "axs[0].set_title('(A)')\n",
    "\n",
    "plt.subplot(1,2,2)\n",
    "shap.summary_plot(shap_values, sample, alpha=0.05, show=False)\n",
    "# plt.gcf().axes[-1].set_aspect(100)\n",
    "# plt.gcf().axes[-1].set_box_aspect(100)\n",
    "axs[1].set_xlabel(\"SHAP value\")\n",
    "axs[1].set_title('(B)')\n",
    "plt.gcf().set_size_inches(13,5)\n",
    "plt.tight_layout()\n",
    "plt.savefig(r'figs\\shap_bee_bar.png', bbox_inches='tight')\n",
    "plt.show()"
   ]
  },
  {
   "cell_type": "code",
   "execution_count": null,
   "id": "86bc84e3-f95f-4c81-972e-b1ea888be525",
   "metadata": {},
   "outputs": [],
   "source": [
    "# bar summary plot\n",
    "#clust = shap.utils.hclust(X_test, y_test, linkage=\"single\", random_state=42)\n",
    "shap.plots.bar(shap_values, \n",
    "               #clustering=clust, \n",
    "               #clustering_cutoff=0, \n",
    "               show=False)\n",
    "plt.xlabel('Mean absolute SHAP value')\n",
    "# plt.savefig(r'figs\\shap_summary_bar.png', bbox_inches='tight')\n",
    "plt.show()"
   ]
  },
  {
   "cell_type": "code",
   "execution_count": null,
   "id": "6d541129-a3e8-4223-a89c-a697cbcb355a",
   "metadata": {},
   "outputs": [],
   "source": [
    "# scatter plot with colored interactions\n",
    "fig, ax = plt.subplots(3,2, sharey=True)\n",
    "axes = ax.ravel()\n",
    "titles = ['(A)', '(B)', '(C)', '(D)', '(E)']\n",
    "\n",
    "for idx, col in enumerate(X_test.columns):\n",
    "    shap.dependence_plot(col, shap_values.values, X_test, alpha=0.5, ax=axes[idx], show=False)    \n",
    "    axes[idx].set_title(titles[idx])\n",
    "\n",
    "ax[2][1].set_visible(False)\n",
    "plt.gcf().set_size_inches(13,10)\n",
    "plt.tight_layout()\n",
    "# plt.savefig(r'figs\\shap_w_ix.png', bbox_inches='tight')\n",
    "plt.show()"
   ]
  },
  {
   "cell_type": "markdown",
   "id": "2af851b3-d88f-4bc8-b802-06c484e86a09",
   "metadata": {},
   "source": [
    "### Interactions"
   ]
  },
  {
   "cell_type": "code",
   "execution_count": null,
   "id": "9075b996-5a5a-494f-ab05-4279989c4dd9",
   "metadata": {},
   "outputs": [],
   "source": [
    "X_interaction = X_test#shap.sample(X_test, 5000, random_state=42)\n",
    "shap_interaction_values = shap.TreeExplainer(model).shap_interaction_values(X_interaction)"
   ]
  },
  {
   "cell_type": "code",
   "execution_count": null,
   "id": "e7ba411f-e791-478a-85bd-87618f38b198",
   "metadata": {},
   "outputs": [],
   "source": [
    "shap.summary_plot(shap_interaction_values, X_interaction, show=False)\n",
    "plt.gcf().set_size_inches(25,8)\n",
    "plt.show()"
   ]
  },
  {
   "cell_type": "code",
   "execution_count": null,
   "id": "b38827ab-c456-4204-84ab-d379e35811d1",
   "metadata": {},
   "outputs": [],
   "source": [
    "# main effect plot\n",
    "fig, ax = plt.subplots(3,2, sharey=True)\n",
    "axes = ax.ravel()\n",
    "titles = ['(A)', '(B)', '(C)', '(D)', '(E)']\n",
    "\n",
    "for idx, col in enumerate(X_test.columns):\n",
    "    shap.dependence_plot((col, col), shap_interaction_values, X_interaction, alpha=0.5, ax=axes[idx], show=False) \n",
    "    axes[idx].set_title(titles[idx])\n",
    "\n",
    "ax[2][1].set_visible(False)\n",
    "plt.gcf().set_size_inches(13,10)\n",
    "plt.tight_layout()\n",
    "plt.savefig(r'figs\\shap_main_effect.png', bbox_inches='tight')\n",
    "plt.show()"
   ]
  },
  {
   "cell_type": "code",
   "execution_count": null,
   "id": "2c6748b1-15aa-411d-b45e-3024ba9d5fcf",
   "metadata": {},
   "outputs": [],
   "source": [
    "# interaction between two and two features\n",
    "feature = 'Gen_RPM'\n",
    "cols = X_test.columns.drop(feature)\n",
    "titles = ['(A)', '(B)', '(C)', '(D)', '(E)']\n",
    "\n",
    "fig, ax = plt.subplots(2,2, sharey=True)\n",
    "axes = ax.ravel()\n",
    "\n",
    "for idx, col in enumerate(cols):\n",
    "    shap.dependence_plot((feature, col), shap_interaction_values, X_interaction, ax=axes[idx], show=False)\n",
    "    axes[idx].set_title(titles[idx])\n",
    "\n",
    "plt.gcf().set_size_inches(13,8)\n",
    "plt.tight_layout()\n",
    "plt.show()"
   ]
  },
  {
   "cell_type": "markdown",
   "id": "25857569-2fcb-41d2-b6c6-6cac4a9c7f90",
   "metadata": {},
   "source": [
    "### Local explanation"
   ]
  },
  {
   "cell_type": "code",
   "execution_count": null,
   "id": "a12ba995-a57c-44a0-b2aa-60bcf1326f04",
   "metadata": {},
   "outputs": [],
   "source": [
    "sample = X_test\n",
    "model = models[0]\n",
    "explainer = shap.TreeExplainer(model)\n",
    "shap_values = explainer(sample)"
   ]
  },
  {
   "cell_type": "code",
   "execution_count": null,
   "id": "c99e566d-cc96-4728-859a-d4fe56e5922b",
   "metadata": {},
   "outputs": [],
   "source": [
    "y_test[970]\n",
    "y_test[22724]\n",
    "y_test[34083]"
   ]
  },
  {
   "cell_type": "code",
   "execution_count": null,
   "id": "03e22d19-4e6b-405f-9aa8-684b98d38142",
   "metadata": {},
   "outputs": [],
   "source": [
    "X_test.iloc[970]\n",
    "X_test.iloc[22724]\n",
    "X_test.iloc[34083]"
   ]
  },
  {
   "cell_type": "code",
   "execution_count": null,
   "id": "02c04915-050e-441c-bb6f-3b69c6ed3e1f",
   "metadata": {},
   "outputs": [],
   "source": [
    "explainerr = shap.Explainer(model)\n",
    "shap_valuess = explainer.shap_values(X_test)"
   ]
  },
  {
   "cell_type": "code",
   "execution_count": null,
   "id": "2cb11bc9-bcfa-4484-b5f5-a79a011f844b",
   "metadata": {},
   "outputs": [],
   "source": [
    "shap.initjs()\n",
    "shap.force_plot(explainerr.expected_value, shap_valuess[34083,:], features=X_test.columns)"
   ]
  },
  {
   "cell_type": "code",
   "execution_count": null,
   "id": "e9c5c27a-c4e3-448b-a1d3-d071fa99a35c",
   "metadata": {},
   "outputs": [],
   "source": [
    "fig, ax = plt.subplots(figsize=(13,5))\n",
    "shap.plots.waterfall(shap_values[22724], show=False)\n",
    "\n",
    "plt.savefig(r'figs\\waterfall_jun.png', bbox_inches='tight')\n",
    "plt.show()"
   ]
  },
  {
   "cell_type": "code",
   "execution_count": null,
   "id": "fba41b44-4418-40ef-b3aa-4c3ca91fd2d0",
   "metadata": {},
   "outputs": [],
   "source": [
    "expected_value = explainer.expected_value\n",
    "sv = explainer(shap.sample(X_test, 100))\n",
    "\n",
    "fig, ax = plt.subplots(figsize=(13,5))\n",
    "\n",
    "#plt.subplot(1,2,1)\n",
    "shap.plots.decision(expected_value, sv.values, features=X_test.columns, alpha=0.4, show=False)\n",
    "# plt.savefig(r'figs\\decisions_plot.png', bbox_inches='tight')\n",
    "plt.show()"
   ]
  },
  {
   "cell_type": "markdown",
   "id": "549c9dfd-21f3-47af-a2ca-75a52a5eb3cd",
   "metadata": {},
   "source": [
    "# ICE"
   ]
  },
  {
   "cell_type": "code",
   "execution_count": null,
   "id": "25e9c722-0bf4-4386-bbc9-65c8674c5efb",
   "metadata": {},
   "outputs": [],
   "source": [
    "from pycebox.ice import ice, ice_plot"
   ]
  },
  {
   "cell_type": "code",
   "execution_count": null,
   "id": "ca29e382-0b36-4fea-b8ef-de06a6e45544",
   "metadata": {},
   "outputs": [],
   "source": [
    "features = X_test.columns\n",
    "col_by = features\n",
    "model = models[0]\n",
    "sample = X_test\n",
    "\n",
    "sample_short = shap.sample(sample, 50, random_state=42)\n",
    "\n",
    "fig, axs = plt.subplots(5, 2, sharey='col', figsize=(12,25))\n",
    "\n",
    "\n",
    "for idx, feature in enumerate(features):\n",
    "    ice_df = ice(sample_short, feature, model.predict, num_grid_points=None)\n",
    "\n",
    "    ice_plot(ice_df, linewidth=.5, #plot_points=True,\n",
    "             color_by=col_by[idx-1], plot_pdp=True,\n",
    "             pdp_kwargs={'c': 'blue', 'linewidth': 5}, \n",
    "             frac_to_plot=1, ax=axs[idx,0])\n",
    "\n",
    "    axs[idx,0].set_xlabel(feature)\n",
    "    axs[idx,0].set_ylabel('Gen_Bear_Temp')\n",
    "#    axs[idx,0].set_ylim(18, 95)\n",
    "\n",
    "    ice_plot(ice_df, linewidth=.5,\n",
    "             color_by=col_by[idx-1], plot_pdp=True, #plot_points=True,\n",
    "             pdp_kwargs={'c': 'blue', 'linewidth': 5},\n",
    "             frac_to_plot=1, ax=axs[idx,1], \n",
    "             centered=True, cmap='coolwarm')\n",
    "#     if feature == 'Nac_Temp':\n",
    "#         axs[idx,1].set_ylim(0, 20)\n",
    "    axs[idx,1].set_xlabel(feature)\n",
    "    axs[idx,1].set_ylabel('Change in Gen_Bear_Temp')\n",
    "    \n",
    "#fig.suptitle('ICE Curves', fontsize=20, fontweight='bold')\n",
    "\n",
    "#ice_ax_centered.set_title('ICE Curves');\n",
    "# plt.savefig('Ice_curves.jpg', bbox_inches='tight')\n",
    "plt.show()"
   ]
  },
  {
   "cell_type": "markdown",
   "id": "9ecbb2a9-b776-4a1c-a774-b3569a43e6c5",
   "metadata": {},
   "source": [
    "# ALE"
   ]
  },
  {
   "cell_type": "code",
   "execution_count": null,
   "id": "9b26593e-ccd3-4673-9745-95768efbc197",
   "metadata": {},
   "outputs": [],
   "source": [
    "from PyALE import ale\n",
    "## two 1D plots side by side\n",
    "fig, (ax1, ax2) = plt.subplots(1, 2, figsize=(15, 7))\n",
    "ale_res_1 = ale(\n",
    "    X=X_test[features],\n",
    "    model=models[0],\n",
    "    feature=[\"Gen_Phase_Temp\"],\n",
    "    feature_type=\"continuous\",\n",
    "    grid_size=20,\n",
    "    include_CI=True,\n",
    "    C=0.99,\n",
    "    plot=True,\n",
    "    fig=fig,\n",
    "    ax=ax1,\n",
    ")\n",
    "ale_res_2 = ale(\n",
    "    X=X_test[features],\n",
    "    model=models[0],\n",
    "    feature=[\"Nac_Temp\"],\n",
    "    feature_type=\"continuous\",\n",
    "    grid_size=20,\n",
    "    include_CI=True,\n",
    "    C=0.95,\n",
    "    plot=True,\n",
    "    fig=fig,\n",
    "    ax=ax2,\n",
    ")\n",
    "# change x labels\n",
    "ax1.set_xlabel(\"Temperature\")\n",
    "ax2.set_xlabel(\"RPM\")\n",
    "plt.show()"
   ]
  },
  {
   "cell_type": "code",
   "execution_count": null,
   "id": "75104db5-649f-40c6-890e-07b77e500675",
   "metadata": {},
   "outputs": [],
   "source": [
    "# Plot two features and show their combiined effect on prediction\n",
    "ale_eff = ale(X=X_test, model=models[0], feature=[\"Gen_Phase_Temp\", \"Gen_RPM\"])"
   ]
  },
  {
   "cell_type": "code",
   "execution_count": null,
   "id": "1518ffdc-4105-48d8-be42-362fc502c286",
   "metadata": {},
   "outputs": [],
   "source": [
    "from statsmodels.graphics.tsaplots import plot_acf\n",
    "plot_acf(df.Wind_Speed, lags=23, missing='drop', title='Wind Speed Autocorrelation')\n",
    "\n",
    "from statsmodels.graphics.tsaplots import plot_pacf\n",
    "plot_pacf(df.Wind_Speed, lags=23, title='Wind Speed Partial Autocorrelation')"
   ]
  },
  {
   "cell_type": "markdown",
   "id": "3f071bf9-9fdf-41ec-8d08-1fd0b63a4c03",
   "metadata": {},
   "source": [
    "## dtreeviz"
   ]
  },
  {
   "cell_type": "markdown",
   "id": "25f0a756-df21-4694-8d14-e52b2379b51c",
   "metadata": {},
   "source": [
    "### Some lines are commented out due to them requiring a lot of CPU"
   ]
  },
  {
   "cell_type": "code",
   "execution_count": null,
   "id": "441638a9-6542-4a33-a3c9-186b2db37024",
   "metadata": {},
   "outputs": [],
   "source": [
    "import dtreeviz\n",
    "import graphviz\n",
    "\n",
    "model = models[0]\n",
    "viz_rmodel = dtreeviz.model(model,\n",
    "                           X_train, y_train,\n",
    "                           feature_names=features,\n",
    "                           target_name=target,\n",
    "                           tree_index=1                        \n",
    "                          )\n",
    "\n",
    "# viz_rmodel.view(fancy=False)"
   ]
  },
  {
   "cell_type": "code",
   "execution_count": null,
   "id": "a502f45d-9295-4d02-8bee-3176b7b66c6e",
   "metadata": {},
   "outputs": [],
   "source": [
    "x = X_train.iloc[900]\n",
    "x"
   ]
  },
  {
   "cell_type": "code",
   "execution_count": null,
   "id": "c0c9d303-af95-4668-a1a9-096b5dc58224",
   "metadata": {},
   "outputs": [],
   "source": [
    "viz_rmodel.view(show_just_path=True, x = x)"
   ]
  },
  {
   "cell_type": "code",
   "execution_count": null,
   "id": "1587cec4-52a9-434b-aa40-ffb40c04a271",
   "metadata": {},
   "outputs": [],
   "source": [
    "from sklearn.tree import DecisionTreeRegressor \n",
    "from sklearn import tree\n",
    "\n",
    "clf = tree.DecisionTreeRegressor(random_state=0)\n",
    "\n",
    "clf = clf.fit(X_train[:15], y_train[:15])\n",
    "tree.plot_tree(clf, feature_names=features, class_names=target, filled=True, impurity=False, rounded=True, precision=1)\n",
    "plt.show()"
   ]
  },
  {
   "cell_type": "code",
   "execution_count": null,
   "id": "8ffcd334-b2ce-4672-b4dc-6e2ed9f5c0ba",
   "metadata": {},
   "outputs": [],
   "source": [
    "# viz_rmodel.view(x = x)"
   ]
  },
  {
   "cell_type": "code",
   "execution_count": null,
   "id": "67c31aec-a2f6-47b8-a963-ff3a9317a7fc",
   "metadata": {},
   "outputs": [],
   "source": [
    "print(viz_rmodel.explain_prediction_path(x))"
   ]
  },
  {
   "cell_type": "code",
   "execution_count": null,
   "id": "5c659972-4d56-4f96-b3fe-03f7e7589e51",
   "metadata": {},
   "outputs": [],
   "source": [
    "viz_rmodel.leaf_sizes()"
   ]
  },
  {
   "cell_type": "code",
   "execution_count": null,
   "id": "766372f7-694b-4383-af18-73b929971568",
   "metadata": {},
   "outputs": [],
   "source": [
    "viz_rmodel.rtree_leaf_distributions()"
   ]
  },
  {
   "cell_type": "code",
   "execution_count": null,
   "id": "8ff7ba8e-3819-42bb-8c3b-f3d41bf3ff89",
   "metadata": {},
   "outputs": [],
   "source": [
    "viz_rmodel.node_stats(node_id=4)"
   ]
  },
  {
   "cell_type": "markdown",
   "id": "12bba5b0-9044-4ab0-9284-5c93223926d7",
   "metadata": {},
   "source": [
    "# Lime"
   ]
  },
  {
   "cell_type": "code",
   "execution_count": null,
   "id": "912bbe1f-1fb7-4bfb-a8af-ef8e82389e2c",
   "metadata": {},
   "outputs": [],
   "source": [
    "# 22724 34083"
   ]
  },
  {
   "cell_type": "code",
   "execution_count": null,
   "id": "04981b5a-d9d4-4282-bf79-5645626d2cbb",
   "metadata": {},
   "outputs": [],
   "source": [
    "import lime\n",
    "explainer = lime.lime_tabular.LimeTabularExplainer(X_train.dropna().values, feature_names=X_train.columns.values.tolist(),\n",
    "                                                  class_names=[target], verbose=True, mode='regression')"
   ]
  },
  {
   "cell_type": "code",
   "execution_count": null,
   "id": "982da303-6169-4648-80d2-b612564edec0",
   "metadata": {},
   "outputs": [],
   "source": [
    "j = 34083\n",
    "exp = explainer.explain_instance(X_test.values[j], model.predict, num_features=len(features))"
   ]
  },
  {
   "cell_type": "code",
   "execution_count": null,
   "id": "d8af3e8b-38ea-4d67-9efd-99620bacd386",
   "metadata": {},
   "outputs": [],
   "source": [
    "exp.show_in_notebook(show_table=True)"
   ]
  },
  {
   "cell_type": "code",
   "execution_count": null,
   "id": "42c01e62-2a34-4c87-a433-e11ed0f96a4b",
   "metadata": {},
   "outputs": [],
   "source": [
    "exp.as_list()"
   ]
  },
  {
   "cell_type": "code",
   "execution_count": null,
   "id": "2f607952-2370-4ee0-9158-40a60fc64bc2",
   "metadata": {},
   "outputs": [],
   "source": [
    "j = 22724\n",
    "exp = explainer.explain_instance(X_test.values[j], model.predict, num_features=len(features))"
   ]
  },
  {
   "cell_type": "code",
   "execution_count": null,
   "id": "91dbe6d5-0dc3-4bf0-80cd-15d36dc9bf13",
   "metadata": {},
   "outputs": [],
   "source": [
    "exp.show_in_notebook(show_table=True)"
   ]
  },
  {
   "cell_type": "code",
   "execution_count": null,
   "id": "44e83c79-b9a8-4e6d-9578-d966dab7156c",
   "metadata": {},
   "outputs": [],
   "source": [
    "exp.as_list()"
   ]
  },
  {
   "cell_type": "code",
   "execution_count": null,
   "id": "d011db68-07ca-4346-99ad-c84337ecb8f9",
   "metadata": {},
   "outputs": [],
   "source": [
    "from sklearn.tree import DecisionTreeRegressor, plot_tree\n",
    "predictions = model.predict(X_test)\n",
    "\n",
    "dt = DecisionTreeRegressor(random_state = 100, max_depth=3)\n",
    "dt.fit(X_test, predictions)\n",
    "\n",
    "fig, ax = plt.subplots(figsize=(20, 10))\n",
    "plot_tree(dt, feature_names=list(X_test.columns), precision=3, \n",
    "           filled=True, fontsize=12, impurity=True)\n",
    "plt.show()"
   ]
  },
  {
   "cell_type": "code",
   "execution_count": null,
   "id": "36d521ee-5688-4740-8eb0-df730a913091",
   "metadata": {},
   "outputs": [],
   "source": [
    "dt.score(X_test, predictions)"
   ]
  },
  {
   "cell_type": "code",
   "execution_count": null,
   "id": "566a6bda-e8e6-4b88-b62b-dbf0fac1bdca",
   "metadata": {},
   "outputs": [],
   "source": [
    "fig, ax = plt.subplots(figsize=(25, 10))\n",
    "features = ['Gen_RPM', 'Gen_Phase_Temp', ('Gen_RPM', 'Gen_Phase_Temp')]\n",
    "PartialDependenceDisplay.from_estimator(LGB, X_train[:100], features, ax=ax)\n",
    "fig.suptitle('Partial Dependence Plots')\n",
    "fig.tight_layout()\n",
    "plt.show()"
   ]
  },
  {
   "cell_type": "code",
   "execution_count": null,
   "id": "53a617c5-5829-408a-9123-b722a6236328",
   "metadata": {},
   "outputs": [],
   "source": [
    "fig, ax = plt.subplots(3, 2, figsize=(25, 15))\n",
    "PartialDependenceDisplay.from_estimator(model, X_train[:100], features,\n",
    "    kind='both', ax=ax, n_cols=1\n",
    "                                       )\n",
    "plt.show()"
   ]
  },
  {
   "cell_type": "code",
   "execution_count": null,
   "id": "472098df-50a1-4aa3-b0a8-e292c548362a",
   "metadata": {},
   "outputs": [],
   "source": [
    "var = 'Gen_RPM'\n",
    "values = X_train[var].sort_values().unique()"
   ]
  },
  {
   "cell_type": "code",
   "execution_count": null,
   "id": "e351cacb-fb68-4e40-b002-f261a5070405",
   "metadata": {},
   "outputs": [],
   "source": [
    "n_cols = 2\n",
    "n_rows = int(len(X_train.columns)/n_cols)\n",
    "fig, ax = plt.subplots(n_rows, n_cols, figsize=(10, 12))\n",
    "PartialDependenceDisplay.from_estimator(XGB, X_train[:100], X_train.columns, ax=ax, n_cols=n_cols)\n",
    "fig.suptitle('Partial Dependence Plots')\n",
    "fig.tight_layout()\n",
    "plt.show()"
   ]
  },
  {
   "cell_type": "markdown",
   "id": "1909288a-0ea2-42c8-83a7-dd0a670509f7",
   "metadata": {},
   "source": [
    "# Explainerdashboard"
   ]
  },
  {
   "cell_type": "code",
   "execution_count": null,
   "id": "2871e7a2-6e6a-4c84-9714-fe30069d33b8",
   "metadata": {},
   "outputs": [],
   "source": [
    "from explainerdashboard import RegressionExplainer, ExplainerDashboard"
   ]
  },
  {
   "cell_type": "code",
   "execution_count": null,
   "id": "0b7af4e1-ed0e-4d0d-9ecb-7c23d5fff5bf",
   "metadata": {},
   "outputs": [],
   "source": [
    "model = model\n",
    "explainer = RegressionExplainer(model, X_test[:1000], y_test[:1000],\n",
    "                                target='Gen_Bear_Temp',\n",
    "                                precision='float32')\n",
    "\n",
    "db = ExplainerDashboard(explainer,title='WT Bearing Temperature Prediction', mode='external', )"
   ]
  },
  {
   "cell_type": "code",
   "execution_count": null,
   "id": "45713fa2-7d0b-44a9-a0bd-89e256157a6e",
   "metadata": {},
   "outputs": [],
   "source": [
    "db.run()"
   ]
  },
  {
   "cell_type": "code",
   "execution_count": null,
   "id": "1ff36a83-406c-4daa-b3bd-eb44be3a63aa",
   "metadata": {},
   "outputs": [],
   "source": [
    "ExplainerDashboard.terminate(8050)"
   ]
  },
  {
   "cell_type": "code",
   "execution_count": null,
   "id": "08605220-19d5-4f4a-a88a-821b749213a0",
   "metadata": {},
   "outputs": [],
   "source": [
    "#db.to_yaml(\"dashboard.yaml\", explainerfile=\"explainer.joblib\", dump_explainer=True)\n",
    "db = ExplainerDashboard.from_config(\"dashboard.yaml\")\n",
    "db.run()"
   ]
  }
 ],
 "metadata": {
  "kernelspec": {
   "display_name": "Python 3",
   "language": "python",
   "name": "python3"
  },
  "language_info": {
   "codemirror_mode": {
    "name": "ipython",
    "version": 3
   },
   "file_extension": ".py",
   "mimetype": "text/x-python",
   "name": "python",
   "nbconvert_exporter": "python",
   "pygments_lexer": "ipython3",
   "version": "3.8.8"
  }
 },
 "nbformat": 4,
 "nbformat_minor": 5
}
